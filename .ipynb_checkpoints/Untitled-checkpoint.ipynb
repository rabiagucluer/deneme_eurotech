{
 "cells": [
  {
   "cell_type": "code",
   "execution_count": 1,
   "id": "ad0f6b7a-abb6-4779-9c2b-5abdb67fa9e8",
   "metadata": {},
   "outputs": [],
   "source": [
    "#LEGB \n",
    "#Local and Global\n",
    "def my_function():\n",
    "    local_var=10\n",
    "    print(local_var)\n",
    "    "
   ]
  },
  {
   "cell_type": "code",
   "execution_count": 3,
   "id": "e2ce59f1-7511-4449-8cd6-afd6591abc3c",
   "metadata": {},
   "outputs": [
    {
     "name": "stdout",
     "output_type": "stream",
     "text": [
      "10\n"
     ]
    }
   ],
   "source": [
    "my_function()"
   ]
  },
  {
   "cell_type": "code",
   "execution_count": 5,
   "id": "40613812-5aca-4b01-81ca-902d2e91d07a",
   "metadata": {},
   "outputs": [
    {
     "ename": "NameError",
     "evalue": "name 'local_var' is not defined",
     "output_type": "error",
     "traceback": [
      "\u001b[1;31m---------------------------------------------------------------------------\u001b[0m",
      "\u001b[1;31mNameError\u001b[0m                                 Traceback (most recent call last)",
      "Cell \u001b[1;32mIn[5], line 1\u001b[0m\n\u001b[1;32m----> 1\u001b[0m \u001b[38;5;28mprint\u001b[39m(local_var)\n",
      "\u001b[1;31mNameError\u001b[0m: name 'local_var' is not defined"
     ]
    }
   ],
   "source": [
    "print(local_var)"
   ]
  },
  {
   "cell_type": "code",
   "execution_count": 18,
   "id": "765e1412-bf68-44cb-af5d-3e7286af5d14",
   "metadata": {},
   "outputs": [],
   "source": [
    "global_var=56\n",
    "def my_func2():\n",
    "    print(global_var)\n",
    "    "
   ]
  },
  {
   "cell_type": "code",
   "execution_count": 9,
   "id": "a4be1d3b-9250-4765-b25a-3a6d97ae2aea",
   "metadata": {},
   "outputs": [
    {
     "name": "stdout",
     "output_type": "stream",
     "text": [
      "56\n"
     ]
    }
   ],
   "source": [
    "my_func2()"
   ]
  },
  {
   "cell_type": "code",
   "execution_count": 11,
   "id": "de70df9c-7703-43c7-a83d-59f90683efce",
   "metadata": {},
   "outputs": [
    {
     "name": "stdout",
     "output_type": "stream",
     "text": [
      "56\n"
     ]
    }
   ],
   "source": [
    "print(global_var)\n"
   ]
  },
  {
   "cell_type": "code",
   "execution_count": 24,
   "id": "45577fe0-ac22-491c-80f1-efa203d18e41",
   "metadata": {},
   "outputs": [],
   "source": [
    "global_var=56\n",
    "def my_func2():\n",
    "    print(global_var)\n",
    "    return global_var"
   ]
  },
  {
   "cell_type": "code",
   "execution_count": 27,
   "id": "ddc93b72-e635-4583-ad6c-d0442be1c120",
   "metadata": {},
   "outputs": [
    {
     "name": "stdout",
     "output_type": "stream",
     "text": [
      "56\n"
     ]
    },
    {
     "data": {
      "text/plain": [
       "56"
      ]
     },
     "execution_count": 27,
     "metadata": {},
     "output_type": "execute_result"
    }
   ],
   "source": [
    "my_func2()"
   ]
  },
  {
   "cell_type": "code",
   "execution_count": 35,
   "id": "241be2e9-f281-4119-b623-74a4a3dea629",
   "metadata": {},
   "outputs": [],
   "source": [
    "global_var=56\n",
    "def my_func3():\n",
    "    global_var=12\n",
    "    #print(global_var)\n",
    "    return global_var\n",
    "   "
   ]
  },
  {
   "cell_type": "code",
   "execution_count": 37,
   "id": "05e3f33d-2b7e-41d7-a750-6eae2051e62f",
   "metadata": {},
   "outputs": [
    {
     "data": {
      "text/plain": [
       "12"
      ]
     },
     "execution_count": 37,
     "metadata": {},
     "output_type": "execute_result"
    }
   ],
   "source": [
    "my_func3()"
   ]
  },
  {
   "cell_type": "code",
   "execution_count": 39,
   "id": "50912b5f-50fb-4fa8-abce-e1b006c3bc07",
   "metadata": {},
   "outputs": [
    {
     "data": {
      "text/plain": [
       "56"
      ]
     },
     "execution_count": 39,
     "metadata": {},
     "output_type": "execute_result"
    }
   ],
   "source": [
    "global_var"
   ]
  },
  {
   "cell_type": "code",
   "execution_count": 41,
   "id": "968e5eda-45ad-41fd-9c75-b40bb087c1d6",
   "metadata": {},
   "outputs": [],
   "source": [
    "global_var=56\n",
    "def my_func3():\n",
    "    global global_var\n",
    "    global_var=12\n",
    "    print(global_var)\n"
   ]
  },
  {
   "cell_type": "code",
   "execution_count": 43,
   "id": "82729f6a-2d2e-467c-bb6a-6a43e42617fe",
   "metadata": {},
   "outputs": [
    {
     "name": "stdout",
     "output_type": "stream",
     "text": [
      "12\n"
     ]
    }
   ],
   "source": [
    "my_func3()"
   ]
  },
  {
   "cell_type": "code",
   "execution_count": 45,
   "id": "f9dafa42-e63b-4a6b-9c29-e237d0946e1a",
   "metadata": {},
   "outputs": [
    {
     "data": {
      "text/plain": [
       "12"
      ]
     },
     "execution_count": 45,
     "metadata": {},
     "output_type": "execute_result"
    }
   ],
   "source": [
    "global_var"
   ]
  },
  {
   "cell_type": "code",
   "execution_count": 61,
   "id": "4c4f3b2e-ef09-4672-92a0-f13f4a6d8c08",
   "metadata": {},
   "outputs": [],
   "source": [
    "x = 'awesome' \n",
    "def myfunc():\n",
    "    global x\n",
    "    x = 'fantastic' \n",
    "    print(x)\n"
   ]
  },
  {
   "cell_type": "code",
   "execution_count": 63,
   "id": "91b756df-5929-4f4b-b1dd-f399e3107c7e",
   "metadata": {},
   "outputs": [
    {
     "name": "stdout",
     "output_type": "stream",
     "text": [
      "fantastic\n"
     ]
    }
   ],
   "source": [
    "myfunc() \n"
   ]
  },
  {
   "cell_type": "code",
   "execution_count": 65,
   "id": "58890b5a-0c52-447b-b9fa-6abeede484b5",
   "metadata": {},
   "outputs": [
    {
     "name": "stdout",
     "output_type": "stream",
     "text": [
      "Python is fantastic\n"
     ]
    }
   ],
   "source": [
    "print('Python is ' + x)"
   ]
  },
  {
   "cell_type": "code",
   "execution_count": 77,
   "id": "fae02c79-a48e-4d5c-8068-2a4638f054c9",
   "metadata": {},
   "outputs": [],
   "source": [
    "def toplam(x,y,z):\n",
    "    return x+y+z"
   ]
  },
  {
   "cell_type": "code",
   "execution_count": 79,
   "id": "00354813-4524-48c0-9863-a587e61ba56b",
   "metadata": {},
   "outputs": [
    {
     "data": {
      "text/plain": [
       "124"
      ]
     },
     "execution_count": 79,
     "metadata": {},
     "output_type": "execute_result"
    }
   ],
   "source": [
    "toplam(5,96,23)"
   ]
  },
  {
   "cell_type": "code",
   "execution_count": 81,
   "id": "9c6d6bf4-9ee5-4a68-9737-945698bb550f",
   "metadata": {},
   "outputs": [
    {
     "ename": "TypeError",
     "evalue": "toplam() missing 1 required positional argument: 'z'",
     "output_type": "error",
     "traceback": [
      "\u001b[1;31m---------------------------------------------------------------------------\u001b[0m",
      "\u001b[1;31mTypeError\u001b[0m                                 Traceback (most recent call last)",
      "Cell \u001b[1;32mIn[81], line 1\u001b[0m\n\u001b[1;32m----> 1\u001b[0m toplam(\u001b[38;5;241m2\u001b[39m,\u001b[38;5;241m8\u001b[39m)\n",
      "\u001b[1;31mTypeError\u001b[0m: toplam() missing 1 required positional argument: 'z'"
     ]
    }
   ],
   "source": [
    "toplam(2,8)"
   ]
  },
  {
   "cell_type": "code",
   "execution_count": 99,
   "id": "5ccdd580-3820-45a4-8108-f8ee3c13b96a",
   "metadata": {},
   "outputs": [],
   "source": [
    "def toplam(*args):\n",
    "    return args"
   ]
  },
  {
   "cell_type": "code",
   "execution_count": 101,
   "id": "2ba9dace-3042-48b2-a5bb-d0334662aaaf",
   "metadata": {},
   "outputs": [
    {
     "data": {
      "text/plain": [
       "()"
      ]
     },
     "execution_count": 101,
     "metadata": {},
     "output_type": "execute_result"
    }
   ],
   "source": [
    "toplam()"
   ]
  },
  {
   "cell_type": "code",
   "execution_count": 103,
   "id": "c186d99a-f63b-49f6-a2ef-72c5bb6bf194",
   "metadata": {},
   "outputs": [
    {
     "data": {
      "text/plain": [
       "(6, 95)"
      ]
     },
     "execution_count": 103,
     "metadata": {},
     "output_type": "execute_result"
    }
   ],
   "source": [
    "toplam(6,95)"
   ]
  },
  {
   "cell_type": "code",
   "execution_count": 97,
   "id": "0b767a02-ad68-409c-988e-8d89d421e65b",
   "metadata": {},
   "outputs": [
    {
     "data": {
      "text/plain": [
       "166"
      ]
     },
     "execution_count": 97,
     "metadata": {},
     "output_type": "execute_result"
    }
   ],
   "source": [
    "toplam(7,63,96)"
   ]
  },
  {
   "cell_type": "code",
   "execution_count": 105,
   "id": "53cea553-4498-46fe-855f-c6e1e84c489c",
   "metadata": {},
   "outputs": [],
   "source": [
    "def func4(**kwargs):\n",
    "    print(kwargs)"
   ]
  },
  {
   "cell_type": "code",
   "execution_count": 107,
   "id": "e1171f1a-facc-4289-b7ee-4b7c7bf67e65",
   "metadata": {},
   "outputs": [
    {
     "name": "stdout",
     "output_type": "stream",
     "text": [
      "{}\n"
     ]
    }
   ],
   "source": [
    "func4()"
   ]
  },
  {
   "cell_type": "code",
   "execution_count": 109,
   "id": "8855baed-8150-4902-a23b-44dcd83de885",
   "metadata": {},
   "outputs": [
    {
     "name": "stdout",
     "output_type": "stream",
     "text": [
      "{'name': 'Rabia', 'age': 27}\n"
     ]
    }
   ],
   "source": [
    "func4(name=\"Rabia\", age=27)"
   ]
  },
  {
   "cell_type": "code",
   "execution_count": 133,
   "id": "6d50e441-29bb-4254-9f92-d0734b6a110f",
   "metadata": {},
   "outputs": [],
   "source": [
    "list_int=[1,2,5,4]\n",
    "\n",
    "def carpim(list):\n",
    "    carp=1\n",
    "    for sayi in list:\n",
    "        carp *= sayi\n",
    "    return carp"
   ]
  },
  {
   "cell_type": "code",
   "execution_count": 135,
   "id": "2a15474c-fd44-4ed8-8b0d-c55856fa825f",
   "metadata": {},
   "outputs": [
    {
     "data": {
      "text/plain": [
       "40"
      ]
     },
     "execution_count": 135,
     "metadata": {},
     "output_type": "execute_result"
    }
   ],
   "source": [
    "carpim(list_int)"
   ]
  },
  {
   "cell_type": "code",
   "execution_count": null,
   "id": "09c926e6-9510-469a-a638-8c9651f13fde",
   "metadata": {},
   "outputs": [],
   "source": []
  }
 ],
 "metadata": {
  "kernelspec": {
   "display_name": "Python 3 (ipykernel)",
   "language": "python",
   "name": "python3"
  },
  "language_info": {
   "codemirror_mode": {
    "name": "ipython",
    "version": 3
   },
   "file_extension": ".py",
   "mimetype": "text/x-python",
   "name": "python",
   "nbconvert_exporter": "python",
   "pygments_lexer": "ipython3",
   "version": "3.12.4"
  }
 },
 "nbformat": 4,
 "nbformat_minor": 5
}
