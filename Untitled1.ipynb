{
 "cells": [
  {
   "cell_type": "code",
   "execution_count": 19,
   "id": "f041c67f-dc0b-4ed9-8057-ea0a79ffd60f",
   "metadata": {},
   "outputs": [],
   "source": [
    "sayinin_karesi = lambda x: x*x\n",
    "#kullan at fonk., atamaya gerek yok"
   ]
  },
  {
   "cell_type": "code",
   "execution_count": 3,
   "id": "ea3e96ca-74f7-464d-a62c-d53f7a80bfc6",
   "metadata": {},
   "outputs": [
    {
     "data": {
      "text/plain": [
       "144"
      ]
     },
     "execution_count": 3,
     "metadata": {},
     "output_type": "execute_result"
    }
   ],
   "source": [
    "sayinin_karesi(12)"
   ]
  },
  {
   "cell_type": "code",
   "execution_count": 5,
   "id": "9f06f43b-3e69-4e04-b1a9-c6aee594e16b",
   "metadata": {},
   "outputs": [],
   "source": [
    "my_list=[1,5,3,8,12]"
   ]
  },
  {
   "cell_type": "code",
   "execution_count": 7,
   "id": "386821bd-7110-43f8-aff8-0920ea3fe2ee",
   "metadata": {},
   "outputs": [
    {
     "ename": "TypeError",
     "evalue": "map() must have at least two arguments.",
     "output_type": "error",
     "traceback": [
      "\u001b[1;31m---------------------------------------------------------------------------\u001b[0m",
      "\u001b[1;31mTypeError\u001b[0m                                 Traceback (most recent call last)",
      "Cell \u001b[1;32mIn[7], line 1\u001b[0m\n\u001b[1;32m----> 1\u001b[0m sonuc\u001b[38;5;241m=\u001b[39m\u001b[38;5;28mmap\u001b[39m(\u001b[38;5;28;01mlambda\u001b[39;00m x: x\u001b[38;5;241m*\u001b[39mx)\n",
      "\u001b[1;31mTypeError\u001b[0m: map() must have at least two arguments."
     ]
    }
   ],
   "source": [
    "sonuc=map(lambda x: x*x)"
   ]
  },
  {
   "cell_type": "code",
   "execution_count": 9,
   "id": "79be8d1b-c94c-4604-ba14-7eb6b6993292",
   "metadata": {},
   "outputs": [],
   "source": [
    "sonuc=map(lambda x: x*x, my_list)"
   ]
  },
  {
   "cell_type": "code",
   "execution_count": 11,
   "id": "21addfec-fcf8-410e-9d5a-64b764f8f8b7",
   "metadata": {},
   "outputs": [
    {
     "data": {
      "text/plain": [
       "<map at 0x1c20b1794e0>"
      ]
     },
     "execution_count": 11,
     "metadata": {},
     "output_type": "execute_result"
    }
   ],
   "source": [
    "sonuc"
   ]
  },
  {
   "cell_type": "code",
   "execution_count": 13,
   "id": "b43447c3-d158-4304-8e5f-1d8e128553b7",
   "metadata": {},
   "outputs": [
    {
     "data": {
      "text/plain": [
       "[1, 25, 9, 64, 144]"
      ]
     },
     "execution_count": 13,
     "metadata": {},
     "output_type": "execute_result"
    }
   ],
   "source": [
    "list(sonuc)"
   ]
  },
  {
   "cell_type": "code",
   "execution_count": 25,
   "id": "ae25271b-6d05-411f-a429-51caabf8a7ac",
   "metadata": {},
   "outputs": [],
   "source": [
    "sonuc=list(map(sayinin_karesi, my_list))"
   ]
  },
  {
   "cell_type": "code",
   "execution_count": 27,
   "id": "1b048af8-0f0e-47cf-85d1-facc3e2f955f",
   "metadata": {},
   "outputs": [
    {
     "data": {
      "text/plain": [
       "[1, 25, 9, 64, 144]"
      ]
     },
     "execution_count": 27,
     "metadata": {},
     "output_type": "execute_result"
    }
   ],
   "source": [
    "sonuc"
   ]
  },
  {
   "cell_type": "code",
   "execution_count": 29,
   "id": "df01ee4d-820f-46d2-9e75-95fd0734577c",
   "metadata": {},
   "outputs": [],
   "source": [
    "my_list2=[\"Isim\",\"Yas\",\"Sehir\"]\n",
    "my_dict={\"Isim\":\"Rabia\",\n",
    "         \"Sehir\": \"Ankara\"}\n"
   ]
  },
  {
   "cell_type": "code",
   "execution_count": 31,
   "id": "6169ca6e-160d-4c6d-b834-b65cb09ebf28",
   "metadata": {},
   "outputs": [
    {
     "name": "stdout",
     "output_type": "stream",
     "text": [
      "Rabia\n"
     ]
    },
    {
     "ename": "KeyError",
     "evalue": "'Yas'",
     "output_type": "error",
     "traceback": [
      "\u001b[1;31m---------------------------------------------------------------------------\u001b[0m",
      "\u001b[1;31mKeyError\u001b[0m                                  Traceback (most recent call last)",
      "Cell \u001b[1;32mIn[31], line 2\u001b[0m\n\u001b[0;32m      1\u001b[0m \u001b[38;5;28;01mfor\u001b[39;00m i \u001b[38;5;129;01min\u001b[39;00m my_list2:\n\u001b[1;32m----> 2\u001b[0m     \u001b[38;5;28mprint\u001b[39m(my_dict[i])\n",
      "\u001b[1;31mKeyError\u001b[0m: 'Yas'"
     ]
    }
   ],
   "source": [
    "for i in my_list2:\n",
    "    print(my_dict[i])"
   ]
  },
  {
   "cell_type": "code",
   "execution_count": 33,
   "id": "5e33bf5b-cba4-463c-95c2-95ff671480c2",
   "metadata": {},
   "outputs": [
    {
     "name": "stdout",
     "output_type": "stream",
     "text": [
      "Rabia\n",
      "Hata Aldim.\n"
     ]
    }
   ],
   "source": [
    "#exception handling\n",
    "try:\n",
    "    for i in my_list2:\n",
    "        print(my_dict[i])\n",
    "except:\n",
    "    print(\"Hata Aldim.\")\n",
    "#try da hata alininca except e gecilir\n"
   ]
  },
  {
   "cell_type": "code",
   "execution_count": 37,
   "id": "4e82cd4d-2b7a-43fc-bb06-67fcefdd41d5",
   "metadata": {},
   "outputs": [
    {
     "name": "stdout",
     "output_type": "stream",
     "text": [
      "Rabia\n",
      "Hata Aldim.Bu item 'Yas' yok. \n",
      "Ankara\n"
     ]
    }
   ],
   "source": [
    "\n",
    "for i in my_list2:\n",
    "    try:\n",
    "        print(my_dict[i])\n",
    "    except:\n",
    "        print(f\"Hata Aldim.Bu item '{i}' yok. \")\n",
    "\n"
   ]
  },
  {
   "cell_type": "code",
   "execution_count": null,
   "id": "d8454a79-ac07-4a4e-a4bc-42cfec765875",
   "metadata": {},
   "outputs": [],
   "source": []
  },
  {
   "cell_type": "code",
   "execution_count": null,
   "id": "20d0e058-aebb-4672-926b-35f2b101df16",
   "metadata": {},
   "outputs": [],
   "source": []
  },
  {
   "cell_type": "code",
   "execution_count": null,
   "id": "e93b6c92-3a9f-4cba-87a0-7d5136780c2a",
   "metadata": {},
   "outputs": [],
   "source": []
  },
  {
   "cell_type": "code",
   "execution_count": 25,
   "id": "828c0e22-0cd7-4eb3-9783-fae6f7264581",
   "metadata": {},
   "outputs": [],
   "source": [
    "class Animal:\n",
    "    def __init__(self, name, type):\n",
    "        self.name = name\n",
    "        self.type = type\n",
    "        \n",
    "    def give_me_name(self):\n",
    "        print(f\"Hayvanin adi: {self.name}\")\n",
    "        "
   ]
  },
  {
   "cell_type": "code",
   "execution_count": 27,
   "id": "fe81de45-9175-4e57-865d-ae88aa280154",
   "metadata": {},
   "outputs": [],
   "source": [
    "animal1 = Animal(\"Duman\",\"Cat\")"
   ]
  },
  {
   "cell_type": "code",
   "execution_count": 11,
   "id": "1845cc10-5ad1-48b9-96b2-874e8e290475",
   "metadata": {},
   "outputs": [
    {
     "data": {
      "text/plain": [
       "'Duman'"
      ]
     },
     "execution_count": 11,
     "metadata": {},
     "output_type": "execute_result"
    }
   ],
   "source": [
    "animal1.name"
   ]
  },
  {
   "cell_type": "code",
   "execution_count": 13,
   "id": "24883731-2594-4b3b-9d01-d27508bf6e45",
   "metadata": {},
   "outputs": [
    {
     "data": {
      "text/plain": [
       "True"
      ]
     },
     "execution_count": 13,
     "metadata": {},
     "output_type": "execute_result"
    }
   ],
   "source": [
    "isinstance(animal1, Animal)"
   ]
  },
  {
   "cell_type": "code",
   "execution_count": 15,
   "id": "bde1bf3e-3e70-4389-a45e-71e345f2501a",
   "metadata": {},
   "outputs": [
    {
     "data": {
      "text/plain": [
       "False"
      ]
     },
     "execution_count": 15,
     "metadata": {},
     "output_type": "execute_result"
    }
   ],
   "source": [
    "isinstance(animal1, int)"
   ]
  },
  {
   "cell_type": "code",
   "execution_count": 31,
   "id": "3fc91369-d881-480f-973a-c373573e9d69",
   "metadata": {},
   "outputs": [
    {
     "name": "stdout",
     "output_type": "stream",
     "text": [
      "Hayvanin adi: Duman\n"
     ]
    }
   ],
   "source": [
    "animal1.give_me_name()"
   ]
  },
  {
   "cell_type": "code",
   "execution_count": 23,
   "id": "a9d64ea3-10ec-47ed-afc9-b0cb3ace3025",
   "metadata": {},
   "outputs": [
    {
     "data": {
      "text/plain": [
       "['__class__',\n",
       " '__delattr__',\n",
       " '__dict__',\n",
       " '__dir__',\n",
       " '__doc__',\n",
       " '__eq__',\n",
       " '__format__',\n",
       " '__ge__',\n",
       " '__getattribute__',\n",
       " '__getstate__',\n",
       " '__gt__',\n",
       " '__hash__',\n",
       " '__init__',\n",
       " '__init_subclass__',\n",
       " '__le__',\n",
       " '__lt__',\n",
       " '__module__',\n",
       " '__ne__',\n",
       " '__new__',\n",
       " '__reduce__',\n",
       " '__reduce_ex__',\n",
       " '__repr__',\n",
       " '__setattr__',\n",
       " '__sizeof__',\n",
       " '__str__',\n",
       " '__subclasshook__',\n",
       " '__weakref__',\n",
       " 'name',\n",
       " 'type']"
      ]
     },
     "execution_count": 23,
     "metadata": {},
     "output_type": "execute_result"
    }
   ],
   "source": [
    "dir(animal1)"
   ]
  },
  {
   "cell_type": "code",
   "execution_count": 59,
   "id": "24f5f505-a651-49b4-a8ba-81e18162a441",
   "metadata": {},
   "outputs": [],
   "source": [
    "class Animal:\n",
    "        def speak(self):\n",
    "            print(f\"Animal Speaks...\")"
   ]
  },
  {
   "cell_type": "code",
   "execution_count": 89,
   "id": "f4600eff-d577-41aa-852f-2a1c4ae26f0e",
   "metadata": {},
   "outputs": [],
   "source": [
    "class Dog(Animal):\n",
    "    def speak(self):\n",
    "        print(f\"Köpek Havliyor...\")"
   ]
  },
  {
   "cell_type": "code",
   "execution_count": 91,
   "id": "37b9c8a9-29d8-4ca3-b06b-bf4301b16e52",
   "metadata": {},
   "outputs": [],
   "source": [
    "class Cat(Animal):\n",
    "    def speak(self):\n",
    "        print(f\"Kedi Miyavliyor...\")"
   ]
  },
  {
   "cell_type": "code",
   "execution_count": 93,
   "id": "a61bf095-ff7a-4e33-9c40-fcc19c2b2758",
   "metadata": {},
   "outputs": [],
   "source": [
    "kopek = Dog()"
   ]
  },
  {
   "cell_type": "code",
   "execution_count": 95,
   "id": "dfc21189-3fb3-4085-8a57-ba01d06dca18",
   "metadata": {},
   "outputs": [],
   "source": [
    "kedi = Cat()"
   ]
  },
  {
   "cell_type": "code",
   "execution_count": 97,
   "id": "eea7255f-e562-409a-9e24-34bfa036605a",
   "metadata": {},
   "outputs": [],
   "source": [
    "def makeSound(animal):\n",
    "    animal.speak()"
   ]
  },
  {
   "cell_type": "code",
   "execution_count": 99,
   "id": "8118c577-7ae6-45e1-8589-a23e258e5cb3",
   "metadata": {},
   "outputs": [
    {
     "name": "stdout",
     "output_type": "stream",
     "text": [
      "Köpek Havliyor...\n"
     ]
    }
   ],
   "source": [
    "makeSound(kopek)"
   ]
  },
  {
   "cell_type": "code",
   "execution_count": 101,
   "id": "290562b5-2b8d-4715-966d-2cfecf083e21",
   "metadata": {},
   "outputs": [
    {
     "name": "stdout",
     "output_type": "stream",
     "text": [
      "Kedi Miyavliyor...\n"
     ]
    }
   ],
   "source": [
    "makeSound(kedi)"
   ]
  },
  {
   "cell_type": "code",
   "execution_count": 77,
   "id": "c0829aac-4952-4fe3-a387-8dd35e2c30e4",
   "metadata": {},
   "outputs": [
    {
     "name": "stdout",
     "output_type": "stream",
     "text": [
      "Köpek Havliyor...\n"
     ]
    }
   ],
   "source": [
    "kopek.speak()"
   ]
  },
  {
   "cell_type": "code",
   "execution_count": 79,
   "id": "d26d9c47-e9f9-4682-b828-2e52287eb0fc",
   "metadata": {},
   "outputs": [
    {
     "name": "stdout",
     "output_type": "stream",
     "text": [
      "Kedi Miyavliyor...\n"
     ]
    }
   ],
   "source": [
    "kedi.speak()"
   ]
  },
  {
   "cell_type": "code",
   "execution_count": null,
   "id": "fa4215b1-a56d-4014-bf42-491a8b04d37f",
   "metadata": {},
   "outputs": [],
   "source": []
  },
  {
   "cell_type": "code",
   "execution_count": null,
   "id": "5ac83ad2-9d42-4bea-85e7-19a9f026ff12",
   "metadata": {},
   "outputs": [],
   "source": []
  },
  {
   "cell_type": "code",
   "execution_count": null,
   "id": "824e43c7-7bb1-45b2-9fe3-9aeb734bc427",
   "metadata": {},
   "outputs": [],
   "source": []
  },
  {
   "cell_type": "code",
   "execution_count": null,
   "id": "e44a635a-7b9c-498f-87a3-36b730704458",
   "metadata": {},
   "outputs": [],
   "source": []
  },
  {
   "cell_type": "code",
   "execution_count": null,
   "id": "8230c407-17d2-44e7-af9a-92b4ec61e8d3",
   "metadata": {},
   "outputs": [],
   "source": []
  },
  {
   "cell_type": "code",
   "execution_count": null,
   "id": "1d3cd83d-b17b-47f1-aad8-98d6c877f91c",
   "metadata": {},
   "outputs": [],
   "source": []
  },
  {
   "cell_type": "code",
   "execution_count": 47,
   "id": "9517cc87-0dc8-455a-87b0-5a00eee7c22f",
   "metadata": {},
   "outputs": [],
   "source": [
    "class Car:\n",
    "    def __init__(self, model,marka):\n",
    "        self.__model=model\n",
    "        self._marka=marka\n",
    "\n",
    "    def getModel(self):\n",
    "        return self.__model\n",
    "        \n",
    "    def setModel(self, new_model):\n",
    "        self.__model=new_model\n",
    "        "
   ]
  },
  {
   "cell_type": "code",
   "execution_count": 51,
   "id": "8f41e8d0-37af-4a10-925d-14402d661659",
   "metadata": {},
   "outputs": [],
   "source": [
    "araba= Car(\"2014\",\"BMW\")"
   ]
  },
  {
   "cell_type": "code",
   "execution_count": 53,
   "id": "05ebfd4c-b356-4b62-9449-4a2d1296cd8c",
   "metadata": {},
   "outputs": [
    {
     "ename": "AttributeError",
     "evalue": "'Car' object has no attribute '__model'",
     "output_type": "error",
     "traceback": [
      "\u001b[1;31m---------------------------------------------------------------------------\u001b[0m",
      "\u001b[1;31mAttributeError\u001b[0m                            Traceback (most recent call last)",
      "Cell \u001b[1;32mIn[53], line 1\u001b[0m\n\u001b[1;32m----> 1\u001b[0m araba\u001b[38;5;241m.\u001b[39m__model\n",
      "\u001b[1;31mAttributeError\u001b[0m: 'Car' object has no attribute '__model'"
     ]
    }
   ],
   "source": [
    "araba.__model"
   ]
  },
  {
   "cell_type": "code",
   "execution_count": 55,
   "id": "2210c013-e11f-42a0-a804-d264469f0deb",
   "metadata": {},
   "outputs": [
    {
     "data": {
      "text/plain": [
       "'BMW'"
      ]
     },
     "execution_count": 55,
     "metadata": {},
     "output_type": "execute_result"
    }
   ],
   "source": [
    "araba._marka"
   ]
  },
  {
   "cell_type": "code",
   "execution_count": 39,
   "id": "b96205d8-9516-478b-b12a-a2b3a18e9ae1",
   "metadata": {},
   "outputs": [
    {
     "data": {
      "text/plain": [
       "'2014'"
      ]
     },
     "execution_count": 39,
     "metadata": {},
     "output_type": "execute_result"
    }
   ],
   "source": [
    "araba.getModel()"
   ]
  },
  {
   "cell_type": "code",
   "execution_count": 43,
   "id": "ff4a0c2a-4679-4083-bc95-bf9ce32772fa",
   "metadata": {},
   "outputs": [],
   "source": [
    "araba.setModel(\"2019\")"
   ]
  },
  {
   "cell_type": "code",
   "execution_count": 45,
   "id": "b3c4c97f-9278-4ecb-b8d6-0c244da98e58",
   "metadata": {},
   "outputs": [
    {
     "data": {
      "text/plain": [
       "'2019'"
      ]
     },
     "execution_count": 45,
     "metadata": {},
     "output_type": "execute_result"
    }
   ],
   "source": [
    "araba.getModel()"
   ]
  },
  {
   "cell_type": "code",
   "execution_count": null,
   "id": "c8f0fdad-1472-43d3-b4ca-30f82baf68fd",
   "metadata": {},
   "outputs": [],
   "source": []
  }
 ],
 "metadata": {
  "kernelspec": {
   "display_name": "Python 3 (ipykernel)",
   "language": "python",
   "name": "python3"
  },
  "language_info": {
   "codemirror_mode": {
    "name": "ipython",
    "version": 3
   },
   "file_extension": ".py",
   "mimetype": "text/x-python",
   "name": "python",
   "nbconvert_exporter": "python",
   "pygments_lexer": "ipython3",
   "version": "3.12.4"
  }
 },
 "nbformat": 4,
 "nbformat_minor": 5
}
